{
  "nbformat": 4,
  "nbformat_minor": 0,
  "metadata": {
    "colab": {
      "name": "Untitled1.ipynb",
      "provenance": [],
      "authorship_tag": "ABX9TyNj9wrragSq3PdiWCdwVlye",
      "include_colab_link": true
    },
    "kernelspec": {
      "name": "python3",
      "display_name": "Python 3"
    }
  },
  "cells": [
    {
      "cell_type": "markdown",
      "metadata": {
        "id": "view-in-github",
        "colab_type": "text"
      },
      "source": [
        "<a href=\"https://colab.research.google.com/github/jwakitani/sample3/blob/main/Untitled1.ipynb\" target=\"_parent\"><img src=\"https://colab.research.google.com/assets/colab-badge.svg\" alt=\"Open In Colab\"/></a>"
      ]
    },
    {
      "cell_type": "code",
      "metadata": {
        "id": "bwFyh9d_i3nV"
      },
      "source": [
        "import openpyxl\r\n",
        "\r\n",
        "# ワークブックを新規作成する\r\n",
        "book = openpyxl.Workbook()\r\n",
        "\r\n",
        "# シートを取得し名前を変更する\r\n",
        "sheet = book.active\r\n",
        "sheet.title = 'First sheet'\r\n",
        "\r\n",
        "# 範囲を指定してセルを取得する\r\n",
        "cells = sheet['A1':'B3']\r\n",
        "i = 0\r\n",
        "for row in cells:\r\n",
        "    for cell in row:\r\n",
        "        cell.value = i # セルに値を設定する\r\n",
        "        i += 1\r\n",
        "\r\n",
        "# ワークブックに名前をつけて保存する\r\n",
        "book.save('demo.xlsx')\r\n",
        "\r\n",
        "print('end')\r\n"
      ],
      "execution_count": null,
      "outputs": []
    },
    {
      "cell_type": "markdown",
      "metadata": {
        "id": "galXRayXjEvW"
      },
      "source": [
        "text"
      ]
    }
  ]
}
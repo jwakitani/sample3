{
  "nbformat": 4,
  "nbformat_minor": 0,
  "metadata": {
    "colab": {
      "name": "Untitled0.ipynb",
      "provenance": [],
      "authorship_tag": "ABX9TyNP/hiS2OqIHmo3jneuzvEo",
      "include_colab_link": true
    },
    "kernelspec": {
      "name": "python3",
      "display_name": "Python 3"
    }
  },
  "cells": [
    {
      "cell_type": "markdown",
      "metadata": {
        "id": "view-in-github",
        "colab_type": "text"
      },
      "source": [
        "<a href=\"https://colab.research.google.com/github/jwakitani/sample3/blob/main/Untitled0.ipynb\" target=\"_parent\"><img src=\"https://colab.research.google.com/assets/colab-badge.svg\" alt=\"Open In Colab\"/></a>"
      ]
    },
    {
      "cell_type": "code",
      "metadata": {
        "colab": {
          "base_uri": "https://localhost:8080/"
        },
        "id": "e8xaeT9v_soK",
        "outputId": "00aeb163-83fc-42e3-c552-2275fdb760cd"
      },
      "source": [
        "a = 'hello world' ; b = 'hello its \\\r\n",
        "me '\r\n",
        "print( a , b , sep='と\\n')\r\n",
        "\r\n",
        "c = a+b\r\n",
        "print( c )\r\n",
        "\r\n",
        "c = a*3\r\n",
        "print( c )\r\n",
        "\r\n",
        "\r\n",
        "a = 'hello world \\n hello its me'\r\n",
        "print( a )\r\n",
        "\r\n",
        "a = '仮想通貨ＢＴＣの現在価格：' + str( 320000) + '円'\r\n",
        "print( a )\r\n",
        "print( '最初の文字は、' + a[1] )\r\n",
        "print( '最後の文字は、' + a[-1] )\r\n",
        "print( '２つ目の文字から４つ目の文字は、' + a[1:1+3])\r\n",
        "\r\n",
        "\r\n",
        "# mathライブラリをインポートしてceil切り上げ, floor切り下げを使う\r\n",
        "import math\r\n",
        "c = 12.3e-1\r\n",
        "print( c , round( c ) , math.ceil( c) , math.floor( c ) )\r\n",
        "\r\n",
        "# 複素数の計算\r\n",
        "d = (2 + 3j)\r\n",
        "e = (1 - 1j)\r\n",
        "f = d * e\r\n",
        "print( f.real, f.imag )\r\n",
        "f = complex(3, 4)\r\n",
        "print( f.real, f.imag )\r\n",
        "f = complex( \"3+4J\" )\r\n",
        "print( f.real, f.imag )\r\n",
        "\r\n",
        "\r\n",
        "# 演算子\r\n",
        "a = 12\r\n",
        "print( 9 < a < 20)\r\n",
        "print( a == 12 )\r\n",
        "print( a != 11 )\r\n",
        "print( a >= 10 )\r\n",
        "print( a <= 20 )\r\n",
        "\r\n",
        "print( True and True )\r\n",
        "print( True and False )\r\n",
        "print( True or False )\r\n",
        "print( False or False)\r\n",
        "\r\n",
        "\r\n",
        "\r\n",
        "\r\n",
        "\r\n",
        "\r\n"
      ],
      "execution_count": 42,
      "outputs": [
        {
          "output_type": "stream",
          "text": [
            "hello worldと\n",
            "hello its me \n",
            "hello worldhello its me \n",
            "hello worldhello worldhello world\n",
            "hello world \n",
            " hello its me\n",
            "仮想通貨ＢＴＣの現在価格：320000円\n",
            "最初の文字は、想\n",
            "最後の文字は、円\n",
            "２つ目の文字から４つ目の文字は、想通貨\n",
            "1.23 1 2 1\n",
            "5.0 1.0\n",
            "3.0 4.0\n",
            "3.0 4.0\n",
            "True\n",
            "True\n",
            "True\n",
            "True\n",
            "True\n",
            "True\n",
            "False\n",
            "True\n",
            "False\n"
          ],
          "name": "stdout"
        }
      ]
    },
    {
      "cell_type": "markdown",
      "metadata": {
        "id": "fvF5aydq_1p5"
      },
      "source": [
        "adding text block"
      ]
    }
  ]
}
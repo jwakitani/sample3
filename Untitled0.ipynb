{
  "nbformat": 4,
  "nbformat_minor": 0,
  "metadata": {
    "colab": {
      "name": "Untitled0.ipynb",
      "provenance": [],
      "authorship_tag": "ABX9TyM+GssXJE/XFRcH8qWjNU8S",
      "include_colab_link": true
    },
    "kernelspec": {
      "name": "python3",
      "display_name": "Python 3"
    }
  },
  "cells": [
    {
      "cell_type": "markdown",
      "metadata": {
        "id": "view-in-github",
        "colab_type": "text"
      },
      "source": [
        "<a href=\"https://colab.research.google.com/github/jwakitani/sample3/blob/main/Untitled0.ipynb\" target=\"_parent\"><img src=\"https://colab.research.google.com/assets/colab-badge.svg\" alt=\"Open In Colab\"/></a>"
      ]
    },
    {
      "cell_type": "code",
      "metadata": {
        "colab": {
          "base_uri": "https://localhost:8080/"
        },
        "id": "e8xaeT9v_soK",
        "outputId": "e5e29493-6edf-4ccc-af0f-808b4ddbf94e"
      },
      "source": [
        "a = 'hello world' ; b = 'hello its \\\r\n",
        "me '\r\n",
        "'''\r\n",
        "comment\r\n",
        "comment\r\n",
        "'''\r\n",
        "print( a ); print( b )\r\n",
        "\r\n",
        "\r\n"
      ],
      "execution_count": 7,
      "outputs": [
        {
          "output_type": "stream",
          "text": [
            "hello world\n",
            "hello its me \n"
          ],
          "name": "stdout"
        }
      ]
    },
    {
      "cell_type": "markdown",
      "metadata": {
        "id": "fvF5aydq_1p5"
      },
      "source": [
        "adding text block"
      ]
    }
  ]
}